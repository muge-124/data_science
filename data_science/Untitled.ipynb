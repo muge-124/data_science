{
 "cells": [
  {
   "cell_type": "code",
   "execution_count": 2,
   "id": "6cab5703",
   "metadata": {},
   "outputs": [],
   "source": [
    "listem = {5000,10000,1000,7000,4000}"
   ]
  },
  {
   "cell_type": "code",
   "execution_count": 3,
   "id": "52aacfb5",
   "metadata": {},
   "outputs": [
    {
     "data": {
      "text/plain": [
       "5"
      ]
     },
     "execution_count": 3,
     "metadata": {},
     "output_type": "execute_result"
    }
   ],
   "source": [
    "len(listem)"
   ]
  }
 ],
 "metadata": {
  "kernelspec": {
   "display_name": "Python 3 (ipykernel)",
   "language": "python",
   "name": "python3"
  },
  "language_info": {
   "codemirror_mode": {
    "name": "ipython",
    "version": 3
   },
   "file_extension": ".py",
   "mimetype": "text/x-python",
   "name": "python",
   "nbconvert_exporter": "python",
   "pygments_lexer": "ipython3",
   "version": "3.11.3"
  }
 },
 "nbformat": 4,
 "nbformat_minor": 5
}

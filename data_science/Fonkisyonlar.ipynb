{
 "cells": [
  {
   "cell_type": "markdown",
   "id": "c51b556a",
   "metadata": {},
   "source": [
    "# input & return"
   ]
  },
  {
   "cell_type": "code",
   "execution_count": 3,
   "id": "cbc28fa5",
   "metadata": {},
   "outputs": [],
   "source": [
    "def merhabaDunya(yazdırılacakisim):\n",
    "    print(\"merhaba dünya\")\n",
    "    print(yazdırılacakisim)"
   ]
  },
  {
   "cell_type": "code",
   "execution_count": 4,
   "id": "6a852416",
   "metadata": {},
   "outputs": [
    {
     "name": "stdout",
     "output_type": "stream",
     "text": [
      "merhaba dünya\n",
      "müge\n"
     ]
    }
   ],
   "source": [
    "merhabaDunya(\"müge\")"
   ]
  },
  {
   "cell_type": "code",
   "execution_count": 7,
   "id": "e8b34215",
   "metadata": {},
   "outputs": [],
   "source": [
    "def merhaba(isim=\"müge\"):\n",
    "    print(\"merhaba\")\n",
    "    print(isim)"
   ]
  },
  {
   "cell_type": "code",
   "execution_count": 8,
   "id": "656cc412",
   "metadata": {},
   "outputs": [
    {
     "name": "stdout",
     "output_type": "stream",
     "text": [
      "merhaba\n",
      "müge\n"
     ]
    }
   ],
   "source": [
    "merhaba()"
   ]
  },
  {
   "cell_type": "code",
   "execution_count": 9,
   "id": "2932f57e",
   "metadata": {},
   "outputs": [],
   "source": [
    "def toplama(num1,num2):\n",
    "    sonuc=num1+num2\n",
    "    print(sonuc)"
   ]
  },
  {
   "cell_type": "code",
   "execution_count": 10,
   "id": "df143394",
   "metadata": {},
   "outputs": [
    {
     "name": "stdout",
     "output_type": "stream",
     "text": [
      "40\n"
     ]
    }
   ],
   "source": [
    "toplama(10,30)"
   ]
  },
  {
   "cell_type": "code",
   "execution_count": 11,
   "id": "828bc8a2",
   "metadata": {},
   "outputs": [],
   "source": [
    "def dondurmeliToplama(num1,num2):\n",
    "    return num1+num2"
   ]
  },
  {
   "cell_type": "code",
   "execution_count": 12,
   "id": "ab458ed3",
   "metadata": {},
   "outputs": [],
   "source": [
    "yeniSonuc=dondurmeliToplama(10,20)"
   ]
  },
  {
   "cell_type": "code",
   "execution_count": 14,
   "id": "7f0fd30f",
   "metadata": {},
   "outputs": [
    {
     "data": {
      "text/plain": [
       "30"
      ]
     },
     "execution_count": 14,
     "metadata": {},
     "output_type": "execute_result"
    }
   ],
   "source": [
    "yeniSonuc"
   ]
  },
  {
   "cell_type": "code",
   "execution_count": null,
   "id": "b3b2cd6b",
   "metadata": {},
   "outputs": [],
   "source": [
    "def kontrolFonkisyonu(s):\n",
    "    if s==\"müge\":\n",
    "        print(\"verdiğiniz string müge\")\n",
    "    else:\n",
    "        print(\"verdiğiniz string başka bir şey\")"
   ]
  },
  {
   "cell_type": "code",
   "execution_count": 18,
   "id": "24f0b9b4",
   "metadata": {},
   "outputs": [
    {
     "name": "stdout",
     "output_type": "stream",
     "text": [
      "verdiğiniz string müge\n"
     ]
    }
   ],
   "source": [
    "kontrolFonkisyonu(\"müge\")"
   ]
  },
  {
   "cell_type": "code",
   "execution_count": 19,
   "id": "bc064e69",
   "metadata": {},
   "outputs": [
    {
     "name": "stdout",
     "output_type": "stream",
     "text": [
      "verdiğiniz string başka bir şey\n"
     ]
    }
   ],
   "source": [
    "kontrolFonkisyonu(\"özdilek\")"
   ]
  },
  {
   "cell_type": "code",
   "execution_count": null,
   "id": "8a12f548",
   "metadata": {},
   "outputs": [],
   "source": []
  }
 ],
 "metadata": {
  "kernelspec": {
   "display_name": "Python 3 (ipykernel)",
   "language": "python",
   "name": "python3"
  },
  "language_info": {
   "codemirror_mode": {
    "name": "ipython",
    "version": 3
   },
   "file_extension": ".py",
   "mimetype": "text/x-python",
   "name": "python",
   "nbconvert_exporter": "python",
   "pygments_lexer": "ipython3",
   "version": "3.11.3"
  }
 },
 "nbformat": 4,
 "nbformat_minor": 5
}

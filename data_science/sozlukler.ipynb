{
 "cells": [
  {
   "cell_type": "markdown",
   "id": "a01b8ff8",
   "metadata": {},
   "source": [
    "# key-value pairing (anahtar kelime -değer eşleşmesi)"
   ]
  },
  {
   "cell_type": "code",
   "execution_count": 2,
   "id": "62fbd3da",
   "metadata": {},
   "outputs": [],
   "source": [
    "benimSozluk={\"anahtarKelime\" : \"deger\"}"
   ]
  },
  {
   "cell_type": "code",
   "execution_count": 4,
   "id": "9f2f5e2c",
   "metadata": {},
   "outputs": [],
   "source": [
    "benimYemekKaloriSözlüğüm={\"elma\":100,\"karpuz\":200,\"muz\":300}"
   ]
  },
  {
   "cell_type": "code",
   "execution_count": 5,
   "id": "b4fbda5d",
   "metadata": {},
   "outputs": [
    {
     "data": {
      "text/plain": [
       "300"
      ]
     },
     "execution_count": 5,
     "metadata": {},
     "output_type": "execute_result"
    }
   ],
   "source": [
    "benimYemekKaloriSözlüğüm[\"muz\"]"
   ]
  },
  {
   "cell_type": "code",
   "execution_count": 6,
   "id": "17cf4dba",
   "metadata": {},
   "outputs": [
    {
     "data": {
      "text/plain": [
       "dict"
      ]
     },
     "execution_count": 6,
     "metadata": {},
     "output_type": "execute_result"
    }
   ],
   "source": [
    "type(benimYemekKaloriSözlüğüm)"
   ]
  },
  {
   "cell_type": "code",
   "execution_count": 7,
   "id": "3c0b91de",
   "metadata": {},
   "outputs": [],
   "source": [
    "benimYemekKaloriSözlüğüm[\"elma\"]=500"
   ]
  },
  {
   "cell_type": "code",
   "execution_count": 8,
   "id": "2b93f632",
   "metadata": {},
   "outputs": [
    {
     "data": {
      "text/plain": [
       "{'elma': 500, 'karpuz': 200, 'muz': 300}"
      ]
     },
     "execution_count": 8,
     "metadata": {},
     "output_type": "execute_result"
    }
   ],
   "source": [
    "benimYemekKaloriSözlüğüm"
   ]
  },
  {
   "cell_type": "markdown",
   "id": "0596934b",
   "metadata": {},
   "source": [
    "# setler"
   ]
  },
  {
   "cell_type": "code",
   "execution_count": 10,
   "id": "11446dac",
   "metadata": {},
   "outputs": [],
   "source": [
    "benimListem=[1,2,3,1,2,3]"
   ]
  },
  {
   "cell_type": "code",
   "execution_count": 11,
   "id": "18d59f55",
   "metadata": {},
   "outputs": [],
   "source": [
    "benimListeSetim =set(benimListem)"
   ]
  },
  {
   "cell_type": "code",
   "execution_count": 12,
   "id": "20843b85",
   "metadata": {},
   "outputs": [
    {
     "data": {
      "text/plain": [
       "{1, 2, 3}"
      ]
     },
     "execution_count": 12,
     "metadata": {},
     "output_type": "execute_result"
    }
   ],
   "source": [
    "benimListeSetim"
   ]
  },
  {
   "cell_type": "code",
   "execution_count": 13,
   "id": "4c0fffe7",
   "metadata": {},
   "outputs": [],
   "source": [
    "#set fonkisyonun amacı tekrar edenleri çıkartır"
   ]
  },
  {
   "cell_type": "code",
   "execution_count": 16,
   "id": "65144fac",
   "metadata": {},
   "outputs": [],
   "source": [
    "benimSet={\"a\",\"b\",\"c\",\"b\"}"
   ]
  },
  {
   "cell_type": "code",
   "execution_count": 15,
   "id": "753baebe",
   "metadata": {},
   "outputs": [
    {
     "data": {
      "text/plain": [
       "set"
      ]
     },
     "execution_count": 15,
     "metadata": {},
     "output_type": "execute_result"
    }
   ],
   "source": [
    "type(benimSet)"
   ]
  },
  {
   "cell_type": "code",
   "execution_count": 17,
   "id": "0756d5ad",
   "metadata": {},
   "outputs": [
    {
     "data": {
      "text/plain": [
       "{'a', 'b', 'c'}"
      ]
     },
     "execution_count": 17,
     "metadata": {},
     "output_type": "execute_result"
    }
   ],
   "source": [
    "benimSet"
   ]
  },
  {
   "cell_type": "code",
   "execution_count": 18,
   "id": "ad7451ed",
   "metadata": {},
   "outputs": [],
   "source": [
    "benimBosSetim=set()"
   ]
  },
  {
   "cell_type": "code",
   "execution_count": 19,
   "id": "d428d8fe",
   "metadata": {},
   "outputs": [
    {
     "data": {
      "text/plain": [
       "set"
      ]
     },
     "execution_count": 19,
     "metadata": {},
     "output_type": "execute_result"
    }
   ],
   "source": [
    "type(benimBosSetim)"
   ]
  },
  {
   "cell_type": "code",
   "execution_count": 20,
   "id": "37298798",
   "metadata": {},
   "outputs": [],
   "source": [
    "benimBosSetim.add(10)"
   ]
  },
  {
   "cell_type": "code",
   "execution_count": 21,
   "id": "342bd9a8",
   "metadata": {},
   "outputs": [
    {
     "data": {
      "text/plain": [
       "{10}"
      ]
     },
     "execution_count": 21,
     "metadata": {},
     "output_type": "execute_result"
    }
   ],
   "source": [
    "benimBosSetim"
   ]
  },
  {
   "cell_type": "markdown",
   "id": "d3caa1bd",
   "metadata": {},
   "source": [
    "# tuple"
   ]
  },
  {
   "cell_type": "code",
   "execution_count": 24,
   "id": "970c274c",
   "metadata": {},
   "outputs": [],
   "source": [
    "#içeriğini değiştiremiyoruz"
   ]
  },
  {
   "cell_type": "code",
   "execution_count": null,
   "id": "bd328583",
   "metadata": {},
   "outputs": [],
   "source": []
  }
 ],
 "metadata": {
  "kernelspec": {
   "display_name": "Python 3 (ipykernel)",
   "language": "python",
   "name": "python3"
  },
  "language_info": {
   "codemirror_mode": {
    "name": "ipython",
    "version": 3
   },
   "file_extension": ".py",
   "mimetype": "text/x-python",
   "name": "python",
   "nbconvert_exporter": "python",
   "pygments_lexer": "ipython3",
   "version": "3.11.3"
  }
 },
 "nbformat": 4,
 "nbformat_minor": 5
}

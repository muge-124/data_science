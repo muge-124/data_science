{
 "cells": [
  {
   "cell_type": "markdown",
   "id": "26cf5491",
   "metadata": {},
   "source": [
    "#dictionary\n",
    "Why do we need dictionary?\n",
    "\n",
    "It has 'key' and 'value'\n",
    "Faster than lists\n",
    "What is key and value. Example:\n",
    "dictionary = {'spain' : 'madrid'}\n",
    "Key is spain.\n",
    "Values is madrid.\n",
    "\n",
    "**It's that easy.**\n",
    "Lets practice some other properties like keys(), values(), update, add, check, remove key, remove all entries and remove dicrionary."
   ]
  },
  {
   "cell_type": "code",
   "execution_count": 1,
   "id": "05ae47ba",
   "metadata": {},
   "outputs": [],
   "source": [
    "import pandas as pd\n",
    "import numpy as np\n",
    "import matplotlib.pyplot as plt\n",
    "import seaborn as sns\n"
   ]
  },
  {
   "cell_type": "code",
   "execution_count": 2,
   "id": "eee223ba",
   "metadata": {},
   "outputs": [],
   "source": [
    "data=pd.read_csv(\"pokemon.csv\")"
   ]
  },
  {
   "cell_type": "code",
   "execution_count": 7,
   "id": "6d53f888",
   "metadata": {},
   "outputs": [
    {
     "name": "stdout",
     "output_type": "stream",
     "text": [
      "dict_keys(['spain', 'usa'])\n",
      "dict_values(['madrid', 'vegas'])\n"
     ]
    }
   ],
   "source": [
    "dictionary={'spain':'madrid','usa':'vegas'}\n",
    "print(dictionary.keys())\n",
    "print(dictionary.values())"
   ]
  },
  {
   "cell_type": "code",
   "execution_count": 8,
   "id": "2f82bf3d",
   "metadata": {},
   "outputs": [
    {
     "name": "stdout",
     "output_type": "stream",
     "text": [
      "{'spain': 'barcelona', 'usa': 'vegas'}\n",
      "{'spain': 'barcelona', 'usa': 'vegas', 'france': 'paris'}\n",
      "{'usa': 'vegas', 'france': 'paris'}\n",
      "True\n",
      "{}\n"
     ]
    }
   ],
   "source": [
    "dictionary['spain']=\"barcelona\" #update\n",
    "print(dictionary)\n",
    "dictionary['france']=\"paris\"#add new entry\n",
    "print(dictionary)\n",
    "del dictionary['spain'] #remove entry with key 'spain'\n",
    "print(dictionary)\n",
    "print('france' in dictionary) #check include or not\n",
    "dictionary.clear() #remove all entries in dictionary\n",
    "print(dictionary)"
   ]
  },
  {
   "cell_type": "code",
   "execution_count": null,
   "id": "ce2a4201",
   "metadata": {},
   "outputs": [],
   "source": []
  }
 ],
 "metadata": {
  "kernelspec": {
   "display_name": "Python 3 (ipykernel)",
   "language": "python",
   "name": "python3"
  },
  "language_info": {
   "codemirror_mode": {
    "name": "ipython",
    "version": 3
   },
   "file_extension": ".py",
   "mimetype": "text/x-python",
   "name": "python",
   "nbconvert_exporter": "python",
   "pygments_lexer": "ipython3",
   "version": "3.11.3"
  }
 },
 "nbformat": 4,
 "nbformat_minor": 5
}

{
 "cells": [
  {
   "cell_type": "code",
   "execution_count": 3,
   "id": "5b253bae",
   "metadata": {},
   "outputs": [],
   "source": [
    "listem = {5000,10000,1000,7000,4000}"
   ]
  },
  {
   "cell_type": "code",
   "execution_count": 4,
   "id": "fb24d35d",
   "metadata": {},
   "outputs": [
    {
     "data": {
      "text/plain": [
       "5"
      ]
     },
     "execution_count": 4,
     "metadata": {},
     "output_type": "execute_result"
    }
   ],
   "source": [
    "len(listem)"
   ]
  },
  {
   "cell_type": "code",
   "execution_count": 5,
   "id": "2a67397c",
   "metadata": {},
   "outputs": [
    {
     "data": {
      "text/plain": [
       "27000"
      ]
     },
     "execution_count": 5,
     "metadata": {},
     "output_type": "execute_result"
    }
   ],
   "source": [
    "sum(listem)"
   ]
  },
  {
   "cell_type": "code",
   "execution_count": 6,
   "id": "2c5beddc",
   "metadata": {},
   "outputs": [],
   "source": [
    "ortalama =sum(listem)/len(listem)"
   ]
  },
  {
   "cell_type": "code",
   "execution_count": 9,
   "id": "0e7dd4ac",
   "metadata": {},
   "outputs": [
    {
     "data": {
      "text/plain": [
       "5400.0"
      ]
     },
     "execution_count": 9,
     "metadata": {},
     "output_type": "execute_result"
    }
   ],
   "source": [
    "ortalama"
   ]
  },
  {
   "cell_type": "code",
   "execution_count": 12,
   "id": "40451fa3",
   "metadata": {},
   "outputs": [
    {
     "name": "stdout",
     "output_type": "stream",
     "text": [
      "maaş bilgisini giriniz: 3000\n"
     ]
    }
   ],
   "source": [
    "kullanıcıMaas= input(\"maaş bilgisini giriniz: \")"
   ]
  },
  {
   "cell_type": "code",
   "execution_count": 13,
   "id": "3d7dc4c3",
   "metadata": {},
   "outputs": [],
   "source": [
    "kullanıcıMaasInt =int(kullanıcıMaas)"
   ]
  },
  {
   "cell_type": "code",
   "execution_count": 14,
   "id": "e8405d9e",
   "metadata": {},
   "outputs": [
    {
     "data": {
      "text/plain": [
       "False"
      ]
     },
     "execution_count": 14,
     "metadata": {},
     "output_type": "execute_result"
    }
   ],
   "source": [
    "kullanıcıMaasInt > ortalama"
   ]
  },
  {
   "cell_type": "code",
   "execution_count": null,
   "id": "234d05bd",
   "metadata": {},
   "outputs": [],
   "source": []
  }
 ],
 "metadata": {
  "kernelspec": {
   "display_name": "Python 3 (ipykernel)",
   "language": "python",
   "name": "python3"
  },
  "language_info": {
   "codemirror_mode": {
    "name": "ipython",
    "version": 3
   },
   "file_extension": ".py",
   "mimetype": "text/x-python",
   "name": "python",
   "nbconvert_exporter": "python",
   "pygments_lexer": "ipython3",
   "version": "3.11.3"
  }
 },
 "nbformat": 4,
 "nbformat_minor": 5
}

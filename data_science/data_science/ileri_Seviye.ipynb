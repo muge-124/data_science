{
 "cells": [
  {
   "cell_type": "code",
   "execution_count": 1,
   "id": "3f188816",
   "metadata": {},
   "outputs": [],
   "source": [
    "yemekListesi =[\"muz\",\"elma\",\"ananas\"]\n",
    "kaloriListesi=[100,200,300]\n",
    "gunListesi=[\"pazartesi\",\"salı\",\"çarşamba\"]"
   ]
  },
  {
   "cell_type": "code",
   "execution_count": 2,
   "id": "40139572",
   "metadata": {},
   "outputs": [],
   "source": [
    "ziplenmisListe=list(zip(yemekListesi,kaloriListesi,gunListesi))"
   ]
  },
  {
   "cell_type": "code",
   "execution_count": 3,
   "id": "4a923fe9",
   "metadata": {},
   "outputs": [
    {
     "name": "stdout",
     "output_type": "stream",
     "text": [
      "<class 'tuple'>\n",
      "<class 'tuple'>\n",
      "<class 'tuple'>\n"
     ]
    }
   ],
   "source": [
    "for eleman in ziplenmisListe:\n",
    "    print(type(eleman))"
   ]
  },
  {
   "cell_type": "code",
   "execution_count": 4,
   "id": "3329d482",
   "metadata": {},
   "outputs": [
    {
     "data": {
      "text/plain": [
       "[('muz', 100, 'pazartesi'), ('elma', 200, 'salı'), ('ananas', 300, 'çarşamba')]"
      ]
     },
     "execution_count": 4,
     "metadata": {},
     "output_type": "execute_result"
    }
   ],
   "source": [
    "ziplenmisListe"
   ]
  },
  {
   "cell_type": "markdown",
   "id": "40bb5436",
   "metadata": {},
   "source": [
    "# listeler ileri seviye"
   ]
  },
  {
   "cell_type": "code",
   "execution_count": 1,
   "id": "2c49bb6a",
   "metadata": {},
   "outputs": [],
   "source": [
    "listeOrneği=[]\n",
    "myString=\"özdilek aydın\"\n",
    "\n",
    "for harf in myString:\n",
    "    listeOrneği.append(harf)"
   ]
  },
  {
   "cell_type": "code",
   "execution_count": 2,
   "id": "e681b63a",
   "metadata": {},
   "outputs": [
    {
     "data": {
      "text/plain": [
       "['ö', 'z', 'd', 'i', 'l', 'e', 'k', ' ', 'a', 'y', 'd', 'ı', 'n']"
      ]
     },
     "execution_count": 2,
     "metadata": {},
     "output_type": "execute_result"
    }
   ],
   "source": [
    "listeOrneği"
   ]
  },
  {
   "cell_type": "code",
   "execution_count": 3,
   "id": "7e4021dc",
   "metadata": {},
   "outputs": [],
   "source": [
    "newString=\"müge yılmaz\"\n"
   ]
  },
  {
   "cell_type": "code",
   "execution_count": 4,
   "id": "53ce74d8",
   "metadata": {},
   "outputs": [],
   "source": [
    "newListeOrneği=[eleman for eleman in newString]"
   ]
  },
  {
   "cell_type": "code",
   "execution_count": 5,
   "id": "72eba617",
   "metadata": {},
   "outputs": [
    {
     "data": {
      "text/plain": [
       "['m', 'ü', 'g', 'e', ' ', 'y', 'ı', 'l', 'm', 'a', 'z']"
      ]
     },
     "execution_count": 5,
     "metadata": {},
     "output_type": "execute_result"
    }
   ],
   "source": [
    "newListeOrneği"
   ]
  },
  {
   "cell_type": "code",
   "execution_count": 8,
   "id": "2ed9d921",
   "metadata": {},
   "outputs": [],
   "source": [
    "secondListeOrneği=[numara *5 for numara in list(range(0,10))]"
   ]
  },
  {
   "cell_type": "code",
   "execution_count": 9,
   "id": "9e22bcb0",
   "metadata": {},
   "outputs": [
    {
     "data": {
      "text/plain": [
       "[0, 5, 10, 15, 20, 25, 30, 35, 40, 45]"
      ]
     },
     "execution_count": 9,
     "metadata": {},
     "output_type": "execute_result"
    }
   ],
   "source": [
    "secondListeOrneği"
   ]
  },
  {
   "cell_type": "code",
   "execution_count": 10,
   "id": "3aae98f0",
   "metadata": {},
   "outputs": [],
   "source": [
    "secondListeOrneği=[numara **5 for numara in list(range(0,10))]"
   ]
  },
  {
   "cell_type": "code",
   "execution_count": 11,
   "id": "f39efb4f",
   "metadata": {},
   "outputs": [
    {
     "data": {
      "text/plain": [
       "[0, 1, 32, 243, 1024, 3125, 7776, 16807, 32768, 59049]"
      ]
     },
     "execution_count": 11,
     "metadata": {},
     "output_type": "execute_result"
    }
   ],
   "source": [
    "secondListeOrneği"
   ]
  },
  {
   "cell_type": "code",
   "execution_count": null,
   "id": "8788a73b",
   "metadata": {},
   "outputs": [],
   "source": []
  }
 ],
 "metadata": {
  "kernelspec": {
   "display_name": "Python 3 (ipykernel)",
   "language": "python",
   "name": "python3"
  },
  "language_info": {
   "codemirror_mode": {
    "name": "ipython",
    "version": 3
   },
   "file_extension": ".py",
   "mimetype": "text/x-python",
   "name": "python",
   "nbconvert_exporter": "python",
   "pygments_lexer": "ipython3",
   "version": "3.11.3"
  }
 },
 "nbformat": 4,
 "nbformat_minor": 5
}

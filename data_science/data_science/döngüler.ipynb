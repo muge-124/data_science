{
 "cells": [
  {
   "cell_type": "code",
   "execution_count": 1,
   "id": "3d6aee47",
   "metadata": {},
   "outputs": [],
   "source": [
    "myList=[1,2,3,4,5,6]"
   ]
  },
  {
   "cell_type": "code",
   "execution_count": 10,
   "id": "32ebb7b2",
   "metadata": {},
   "outputs": [
    {
     "name": "stdout",
     "output_type": "stream",
     "text": [
      "2\n",
      "4\n",
      "6\n"
     ]
    }
   ],
   "source": [
    "for num in myList:\n",
    "    if num %2 == 0:\n",
    "        print(num)"
   ]
  },
  {
   "cell_type": "code",
   "execution_count": 11,
   "id": "362299af",
   "metadata": {},
   "outputs": [],
   "source": [
    "myNewString=\"Müge Yılmaz\""
   ]
  },
  {
   "cell_type": "code",
   "execution_count": 12,
   "id": "a4ab2496",
   "metadata": {},
   "outputs": [
    {
     "name": "stdout",
     "output_type": "stream",
     "text": [
      "M\n",
      "ü\n",
      "g\n",
      "e\n",
      " \n",
      "Y\n",
      "ı\n",
      "l\n",
      "m\n",
      "a\n",
      "z\n"
     ]
    }
   ],
   "source": [
    "for letter in myNewString:\n",
    "    print(letter)"
   ]
  },
  {
   "cell_type": "markdown",
   "id": "28e8395f",
   "metadata": {},
   "source": [
    "#tuplelarda değişim yapamayız örneğin birinci indexi 200 yapamazsın"
   ]
  },
  {
   "cell_type": "code",
   "execution_count": 13,
   "id": "634347f3",
   "metadata": {},
   "outputs": [],
   "source": [
    "myTuple=(1,2,3,4,5)"
   ]
  },
  {
   "cell_type": "code",
   "execution_count": 14,
   "id": "7b5cb698",
   "metadata": {},
   "outputs": [
    {
     "name": "stdout",
     "output_type": "stream",
     "text": [
      "-4\n",
      "-3\n",
      "-2\n",
      "-1\n",
      "0\n"
     ]
    }
   ],
   "source": [
    "for num in myTuple:\n",
    "    print(num-5)"
   ]
  },
  {
   "cell_type": "code",
   "execution_count": 15,
   "id": "d4ad86af",
   "metadata": {},
   "outputs": [],
   "source": [
    "myCoordinateList=[(10.2,15.3),(20.6,67.5),(14.5,48.3)]"
   ]
  },
  {
   "cell_type": "code",
   "execution_count": 17,
   "id": "8022e188",
   "metadata": {},
   "outputs": [
    {
     "data": {
      "text/plain": [
       "tuple"
      ]
     },
     "execution_count": 17,
     "metadata": {},
     "output_type": "execute_result"
    }
   ],
   "source": [
    "type(myCoordinateList[0])"
   ]
  },
  {
   "cell_type": "code",
   "execution_count": 18,
   "id": "2d4aa81d",
   "metadata": {},
   "outputs": [
    {
     "name": "stdout",
     "output_type": "stream",
     "text": [
      "15.3\n",
      "67.5\n",
      "48.3\n"
     ]
    }
   ],
   "source": [
    "for (x,y) in myCoordinateList:\n",
    "    print(y)"
   ]
  },
  {
   "cell_type": "code",
   "execution_count": 20,
   "id": "57524867",
   "metadata": {},
   "outputs": [],
   "source": [
    "myDictionaryList={\"muz\":120 ,\"elma\":300,\"ayva\":800}"
   ]
  },
  {
   "cell_type": "code",
   "execution_count": 21,
   "id": "507d10e9",
   "metadata": {},
   "outputs": [
    {
     "data": {
      "text/plain": [
       "dict_items([('muz', 120), ('elma', 300), ('ayva', 800)])"
      ]
     },
     "execution_count": 21,
     "metadata": {},
     "output_type": "execute_result"
    }
   ],
   "source": [
    "myDictionaryList.items()"
   ]
  },
  {
   "cell_type": "code",
   "execution_count": 22,
   "id": "c2437723",
   "metadata": {},
   "outputs": [
    {
     "name": "stdout",
     "output_type": "stream",
     "text": [
      "120\n",
      "300\n",
      "800\n"
     ]
    }
   ],
   "source": [
    "for(key,value) in myDictionaryList.items():\n",
    "    print(value)"
   ]
  },
  {
   "cell_type": "code",
   "execution_count": null,
   "id": "3a2d99fd",
   "metadata": {},
   "outputs": [],
   "source": []
  }
 ],
 "metadata": {
  "kernelspec": {
   "display_name": "Python 3 (ipykernel)",
   "language": "python",
   "name": "python3"
  },
  "language_info": {
   "codemirror_mode": {
    "name": "ipython",
    "version": 3
   },
   "file_extension": ".py",
   "mimetype": "text/x-python",
   "name": "python",
   "nbconvert_exporter": "python",
   "pygments_lexer": "ipython3",
   "version": "3.11.3"
  }
 },
 "nbformat": 4,
 "nbformat_minor": 5
}

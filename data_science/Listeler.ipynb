{
 "cells": [
  {
   "cell_type": "code",
   "execution_count": 1,
   "id": "e489382c",
   "metadata": {},
   "outputs": [],
   "source": [
    "#immutability & mutable (değişmezlik & değişilebilirlik)"
   ]
  },
  {
   "cell_type": "code",
   "execution_count": 4,
   "id": "fd85e02e",
   "metadata": {},
   "outputs": [],
   "source": [
    "benimListem =[10,20,30,40]"
   ]
  },
  {
   "cell_type": "code",
   "execution_count": 7,
   "id": "8af9dd71",
   "metadata": {},
   "outputs": [],
   "source": [
    "benimListem[0]=100"
   ]
  },
  {
   "cell_type": "code",
   "execution_count": 9,
   "id": "0b040a42",
   "metadata": {},
   "outputs": [
    {
     "data": {
      "text/plain": [
       "[100, 20, 30, 40]"
      ]
     },
     "execution_count": 9,
     "metadata": {},
     "output_type": "execute_result"
    }
   ],
   "source": [
    "benimListem"
   ]
  },
  {
   "cell_type": "code",
   "execution_count": 10,
   "id": "1ca79626",
   "metadata": {},
   "outputs": [],
   "source": [
    "benimListem.append(50)"
   ]
  },
  {
   "cell_type": "code",
   "execution_count": 11,
   "id": "f72de374",
   "metadata": {},
   "outputs": [
    {
     "data": {
      "text/plain": [
       "[100, 20, 30, 40, 50]"
      ]
     },
     "execution_count": 11,
     "metadata": {},
     "output_type": "execute_result"
    }
   ],
   "source": [
    "benimListem"
   ]
  },
  {
   "cell_type": "code",
   "execution_count": 12,
   "id": "c75a3f34",
   "metadata": {},
   "outputs": [
    {
     "data": {
      "text/plain": [
       "50"
      ]
     },
     "execution_count": 12,
     "metadata": {},
     "output_type": "execute_result"
    }
   ],
   "source": [
    "benimListem.pop() #son elamanı atma"
   ]
  },
  {
   "cell_type": "code",
   "execution_count": 14,
   "id": "b3f08784",
   "metadata": {},
   "outputs": [
    {
     "data": {
      "text/plain": [
       "[100, 20, 30, 40]"
      ]
     },
     "execution_count": 14,
     "metadata": {},
     "output_type": "execute_result"
    }
   ],
   "source": [
    "benimListem"
   ]
  },
  {
   "cell_type": "code",
   "execution_count": 15,
   "id": "2dd46a84",
   "metadata": {},
   "outputs": [],
   "source": [
    "benimListem.remove(40)"
   ]
  },
  {
   "cell_type": "code",
   "execution_count": 16,
   "id": "fb6c354d",
   "metadata": {},
   "outputs": [
    {
     "data": {
      "text/plain": [
       "[100, 20, 30]"
      ]
     },
     "execution_count": 16,
     "metadata": {},
     "output_type": "execute_result"
    }
   ],
   "source": [
    "benimListem"
   ]
  },
  {
   "cell_type": "code",
   "execution_count": 19,
   "id": "c55f6f6f",
   "metadata": {},
   "outputs": [
    {
     "data": {
      "text/plain": [
       "1"
      ]
     },
     "execution_count": 19,
     "metadata": {},
     "output_type": "execute_result"
    }
   ],
   "source": [
    "benimListem.count(20)#listede 20 den kaç tane var "
   ]
  },
  {
   "cell_type": "code",
   "execution_count": 21,
   "id": "f6fc2ec3",
   "metadata": {},
   "outputs": [],
   "source": [
    "benimStringListem=[\"müge\",\"melis\",\"yunus\",\"remziye\"]"
   ]
  },
  {
   "cell_type": "code",
   "execution_count": 22,
   "id": "f64c4ed2",
   "metadata": {},
   "outputs": [],
   "source": [
    "benimDigerStringListem=[\"özdilek\",\"gülde\",\"zeybo\"]"
   ]
  },
  {
   "cell_type": "code",
   "execution_count": 23,
   "id": "b0d11ed4",
   "metadata": {},
   "outputs": [],
   "source": [
    "benimToplamaListem=benimStringListem + benimDigerStringListem"
   ]
  },
  {
   "cell_type": "code",
   "execution_count": 24,
   "id": "9ef7071d",
   "metadata": {},
   "outputs": [
    {
     "data": {
      "text/plain": [
       "['müge', 'melis', 'yunus', 'remziye', 'özdilek', 'gülde', 'zeybo']"
      ]
     },
     "execution_count": 24,
     "metadata": {},
     "output_type": "execute_result"
    }
   ],
   "source": [
    "benimToplamaListem"
   ]
  },
  {
   "cell_type": "code",
   "execution_count": 25,
   "id": "35d89ed9",
   "metadata": {},
   "outputs": [],
   "source": [
    "benimToplamaListem.reverse()"
   ]
  },
  {
   "cell_type": "code",
   "execution_count": 26,
   "id": "070fac8f",
   "metadata": {},
   "outputs": [
    {
     "data": {
      "text/plain": [
       "['zeybo', 'gülde', 'özdilek', 'remziye', 'yunus', 'melis', 'müge']"
      ]
     },
     "execution_count": 26,
     "metadata": {},
     "output_type": "execute_result"
    }
   ],
   "source": [
    "benimToplamaListem"
   ]
  },
  {
   "cell_type": "code",
   "execution_count": 31,
   "id": "036a87df",
   "metadata": {},
   "outputs": [],
   "source": [
    "karisikListe=[1,2,3.5,5,\"müge\",4]"
   ]
  },
  {
   "cell_type": "code",
   "execution_count": 33,
   "id": "aea3e69f",
   "metadata": {},
   "outputs": [],
   "source": [
    "sonucum=karisikListe[2]"
   ]
  },
  {
   "cell_type": "code",
   "execution_count": 35,
   "id": "d808b7a4",
   "metadata": {},
   "outputs": [
    {
     "data": {
      "text/plain": [
       "3.5"
      ]
     },
     "execution_count": 35,
     "metadata": {},
     "output_type": "execute_result"
    }
   ],
   "source": [
    "karisikListe[2]"
   ]
  },
  {
   "cell_type": "code",
   "execution_count": 36,
   "id": "2034fca1",
   "metadata": {},
   "outputs": [],
   "source": [
    "nestedList =[1,5,\"müge\",4,[6,\"z\"]]"
   ]
  },
  {
   "cell_type": "code",
   "execution_count": 38,
   "id": "b5eb99be",
   "metadata": {},
   "outputs": [
    {
     "data": {
      "text/plain": [
       "[6, 'z']"
      ]
     },
     "execution_count": 38,
     "metadata": {},
     "output_type": "execute_result"
    }
   ],
   "source": [
    "nestedList[4]"
   ]
  },
  {
   "cell_type": "code",
   "execution_count": 41,
   "id": "e50bef53",
   "metadata": {},
   "outputs": [],
   "source": [
    "x=nestedList[4][1]"
   ]
  },
  {
   "cell_type": "code",
   "execution_count": 42,
   "id": "db7f3a8b",
   "metadata": {},
   "outputs": [
    {
     "data": {
      "text/plain": [
       "'z'"
      ]
     },
     "execution_count": 42,
     "metadata": {},
     "output_type": "execute_result"
    }
   ],
   "source": [
    "x"
   ]
  },
  {
   "cell_type": "markdown",
   "id": "70ac068a",
   "metadata": {},
   "source": [
    "#listeler ileri seviye"
   ]
  },
  {
   "cell_type": "code",
   "execution_count": 1,
   "id": "bca09508",
   "metadata": {},
   "outputs": [
    {
     "data": {
      "text/plain": [
       "['m', 'u', 'g', 'e', ' ', 'y', 'ı', 'l', 'm', 'a', 'z']"
      ]
     },
     "execution_count": 1,
     "metadata": {},
     "output_type": "execute_result"
    }
   ],
   "source": [
    "listeExample =[]\n",
    "myString=\"muge yılmaz\"\n",
    "\n",
    "for harf in myString:\n",
    "    listeExample.append(harf)\n",
    "listeExample\n"
   ]
  },
  {
   "cell_type": "code",
   "execution_count": null,
   "id": "08bcb38b",
   "metadata": {},
   "outputs": [],
   "source": []
  }
 ],
 "metadata": {
  "kernelspec": {
   "display_name": "Python 3 (ipykernel)",
   "language": "python",
   "name": "python3"
  },
  "language_info": {
   "codemirror_mode": {
    "name": "ipython",
    "version": 3
   },
   "file_extension": ".py",
   "mimetype": "text/x-python",
   "name": "python",
   "nbconvert_exporter": "python",
   "pygments_lexer": "ipython3",
   "version": "3.11.3"
  }
 },
 "nbformat": 4,
 "nbformat_minor": 5
}
